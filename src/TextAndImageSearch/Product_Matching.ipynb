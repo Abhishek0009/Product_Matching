{
  "nbformat": 4,
  "nbformat_minor": 0,
  "metadata": {
    "colab": {
      "provenance": [],
      "gpuType": "T4"
    },
    "kernelspec": {
      "name": "python3",
      "display_name": "Python 3"
    },
    "language_info": {
      "name": "python"
    },
    "accelerator": "GPU"
  },
  "cells": [
    {
      "cell_type": "markdown",
      "source": [
        "# READ THE CSV MAKE DF\n",
        "\n"
      ],
      "metadata": {
        "id": "aDqD7i_xTCon"
      }
    },
    {
      "cell_type": "code",
      "source": [
        "import pandas as pd\n",
        "\n",
        "df =pd.read_csv(\"/content/flipkart_com-ecommerce_sample.csv\")\n",
        "df.describe(include='all').T"
      ],
      "metadata": {
        "colab": {
          "base_uri": "https://localhost:8080/",
          "height": 644
        },
        "id": "J50--uiqE-Np",
        "outputId": "ad90fcc3-4607-4926-9599-001badb28b6e"
      },
      "execution_count": 4,
      "outputs": [
        {
          "output_type": "execute_result",
          "data": {
            "text/plain": [
              "                           count unique  \\\n",
              "uniq_id                    20000  20000   \n",
              "crawl_timestamp            20000    371   \n",
              "product_url                20000  20000   \n",
              "product_name               20000  12676   \n",
              "product_category_tree      20000   6466   \n",
              "pid                        20000  19998   \n",
              "retail_price             19922.0    NaN   \n",
              "discounted_price         19922.0    NaN   \n",
              "image                      19997  18589   \n",
              "is_FK_Advantage_product    20000      2   \n",
              "description                19998  17539   \n",
              "product_rating             20000     36   \n",
              "overall_rating             20000     36   \n",
              "brand                      14136   3499   \n",
              "product_specifications     19986  18825   \n",
              "\n",
              "                                                                       top  \\\n",
              "uniq_id                                   c2d766ca982eca8304150849735ffef9   \n",
              "crawl_timestamp                                  2015-12-01 12:40:44 +0000   \n",
              "product_url              http://www.flipkart.com/alisha-solid-women-s-c...   \n",
              "product_name                    TheLostPuppy Back Cover for Apple iPad Air   \n",
              "product_category_tree     [\"Jewellery >> Necklaces & Chains >> Necklaces\"]   \n",
              "pid                                                       JEAEGE8Q8GXYFTGU   \n",
              "retail_price                                                           NaN   \n",
              "discounted_price                                                       NaN   \n",
              "image                    [\"http://img6a.flixcart.com/image/car-mat/m/t/...   \n",
              "is_FK_Advantage_product                                              False   \n",
              "description              TheLostPuppy Back Cover for Apple iPad Air (Mu...   \n",
              "product_rating                                         No rating available   \n",
              "overall_rating                                         No rating available   \n",
              "brand                                                          Allure Auto   \n",
              "product_specifications   {\"product_specification\"=>[{\"key\"=>\"Type\", \"va...   \n",
              "\n",
              "                          freq         mean          std   min    25%     50%  \\\n",
              "uniq_id                      1          NaN          NaN   NaN    NaN     NaN   \n",
              "crawl_timestamp           1979          NaN          NaN   NaN    NaN     NaN   \n",
              "product_url                  1          NaN          NaN   NaN    NaN     NaN   \n",
              "product_name               134          NaN          NaN   NaN    NaN     NaN   \n",
              "product_category_tree     1567          NaN          NaN   NaN    NaN     NaN   \n",
              "pid                          2          NaN          NaN   NaN    NaN     NaN   \n",
              "retail_price               NaN  2979.206104  9009.639341  35.0  666.0  1040.0   \n",
              "discounted_price           NaN  1973.401767   7333.58604  35.0  350.0   550.0   \n",
              "image                       45          NaN          NaN   NaN    NaN     NaN   \n",
              "is_FK_Advantage_product  19215          NaN          NaN   NaN    NaN     NaN   \n",
              "description                 92          NaN          NaN   NaN    NaN     NaN   \n",
              "product_rating           18151          NaN          NaN   NaN    NaN     NaN   \n",
              "overall_rating           18151          NaN          NaN   NaN    NaN     NaN   \n",
              "brand                      469          NaN          NaN   NaN    NaN     NaN   \n",
              "product_specifications      71          NaN          NaN   NaN    NaN     NaN   \n",
              "\n",
              "                            75%       max  \n",
              "uniq_id                     NaN       NaN  \n",
              "crawl_timestamp             NaN       NaN  \n",
              "product_url                 NaN       NaN  \n",
              "product_name                NaN       NaN  \n",
              "product_category_tree       NaN       NaN  \n",
              "pid                         NaN       NaN  \n",
              "retail_price             1999.0  571230.0  \n",
              "discounted_price          999.0  571230.0  \n",
              "image                       NaN       NaN  \n",
              "is_FK_Advantage_product     NaN       NaN  \n",
              "description                 NaN       NaN  \n",
              "product_rating              NaN       NaN  \n",
              "overall_rating              NaN       NaN  \n",
              "brand                       NaN       NaN  \n",
              "product_specifications      NaN       NaN  "
            ],
            "text/html": [
              "\n",
              "  <div id=\"df-f52eb3a0-a672-40da-bb46-902b89a9e935\" class=\"colab-df-container\">\n",
              "    <div>\n",
              "<style scoped>\n",
              "    .dataframe tbody tr th:only-of-type {\n",
              "        vertical-align: middle;\n",
              "    }\n",
              "\n",
              "    .dataframe tbody tr th {\n",
              "        vertical-align: top;\n",
              "    }\n",
              "\n",
              "    .dataframe thead th {\n",
              "        text-align: right;\n",
              "    }\n",
              "</style>\n",
              "<table border=\"1\" class=\"dataframe\">\n",
              "  <thead>\n",
              "    <tr style=\"text-align: right;\">\n",
              "      <th></th>\n",
              "      <th>count</th>\n",
              "      <th>unique</th>\n",
              "      <th>top</th>\n",
              "      <th>freq</th>\n",
              "      <th>mean</th>\n",
              "      <th>std</th>\n",
              "      <th>min</th>\n",
              "      <th>25%</th>\n",
              "      <th>50%</th>\n",
              "      <th>75%</th>\n",
              "      <th>max</th>\n",
              "    </tr>\n",
              "  </thead>\n",
              "  <tbody>\n",
              "    <tr>\n",
              "      <th>uniq_id</th>\n",
              "      <td>20000</td>\n",
              "      <td>20000</td>\n",
              "      <td>c2d766ca982eca8304150849735ffef9</td>\n",
              "      <td>1</td>\n",
              "      <td>NaN</td>\n",
              "      <td>NaN</td>\n",
              "      <td>NaN</td>\n",
              "      <td>NaN</td>\n",
              "      <td>NaN</td>\n",
              "      <td>NaN</td>\n",
              "      <td>NaN</td>\n",
              "    </tr>\n",
              "    <tr>\n",
              "      <th>crawl_timestamp</th>\n",
              "      <td>20000</td>\n",
              "      <td>371</td>\n",
              "      <td>2015-12-01 12:40:44 +0000</td>\n",
              "      <td>1979</td>\n",
              "      <td>NaN</td>\n",
              "      <td>NaN</td>\n",
              "      <td>NaN</td>\n",
              "      <td>NaN</td>\n",
              "      <td>NaN</td>\n",
              "      <td>NaN</td>\n",
              "      <td>NaN</td>\n",
              "    </tr>\n",
              "    <tr>\n",
              "      <th>product_url</th>\n",
              "      <td>20000</td>\n",
              "      <td>20000</td>\n",
              "      <td>http://www.flipkart.com/alisha-solid-women-s-c...</td>\n",
              "      <td>1</td>\n",
              "      <td>NaN</td>\n",
              "      <td>NaN</td>\n",
              "      <td>NaN</td>\n",
              "      <td>NaN</td>\n",
              "      <td>NaN</td>\n",
              "      <td>NaN</td>\n",
              "      <td>NaN</td>\n",
              "    </tr>\n",
              "    <tr>\n",
              "      <th>product_name</th>\n",
              "      <td>20000</td>\n",
              "      <td>12676</td>\n",
              "      <td>TheLostPuppy Back Cover for Apple iPad Air</td>\n",
              "      <td>134</td>\n",
              "      <td>NaN</td>\n",
              "      <td>NaN</td>\n",
              "      <td>NaN</td>\n",
              "      <td>NaN</td>\n",
              "      <td>NaN</td>\n",
              "      <td>NaN</td>\n",
              "      <td>NaN</td>\n",
              "    </tr>\n",
              "    <tr>\n",
              "      <th>product_category_tree</th>\n",
              "      <td>20000</td>\n",
              "      <td>6466</td>\n",
              "      <td>[\"Jewellery &gt;&gt; Necklaces &amp; Chains &gt;&gt; Necklaces\"]</td>\n",
              "      <td>1567</td>\n",
              "      <td>NaN</td>\n",
              "      <td>NaN</td>\n",
              "      <td>NaN</td>\n",
              "      <td>NaN</td>\n",
              "      <td>NaN</td>\n",
              "      <td>NaN</td>\n",
              "      <td>NaN</td>\n",
              "    </tr>\n",
              "    <tr>\n",
              "      <th>pid</th>\n",
              "      <td>20000</td>\n",
              "      <td>19998</td>\n",
              "      <td>JEAEGE8Q8GXYFTGU</td>\n",
              "      <td>2</td>\n",
              "      <td>NaN</td>\n",
              "      <td>NaN</td>\n",
              "      <td>NaN</td>\n",
              "      <td>NaN</td>\n",
              "      <td>NaN</td>\n",
              "      <td>NaN</td>\n",
              "      <td>NaN</td>\n",
              "    </tr>\n",
              "    <tr>\n",
              "      <th>retail_price</th>\n",
              "      <td>19922.0</td>\n",
              "      <td>NaN</td>\n",
              "      <td>NaN</td>\n",
              "      <td>NaN</td>\n",
              "      <td>2979.206104</td>\n",
              "      <td>9009.639341</td>\n",
              "      <td>35.0</td>\n",
              "      <td>666.0</td>\n",
              "      <td>1040.0</td>\n",
              "      <td>1999.0</td>\n",
              "      <td>571230.0</td>\n",
              "    </tr>\n",
              "    <tr>\n",
              "      <th>discounted_price</th>\n",
              "      <td>19922.0</td>\n",
              "      <td>NaN</td>\n",
              "      <td>NaN</td>\n",
              "      <td>NaN</td>\n",
              "      <td>1973.401767</td>\n",
              "      <td>7333.58604</td>\n",
              "      <td>35.0</td>\n",
              "      <td>350.0</td>\n",
              "      <td>550.0</td>\n",
              "      <td>999.0</td>\n",
              "      <td>571230.0</td>\n",
              "    </tr>\n",
              "    <tr>\n",
              "      <th>image</th>\n",
              "      <td>19997</td>\n",
              "      <td>18589</td>\n",
              "      <td>[\"http://img6a.flixcart.com/image/car-mat/m/t/...</td>\n",
              "      <td>45</td>\n",
              "      <td>NaN</td>\n",
              "      <td>NaN</td>\n",
              "      <td>NaN</td>\n",
              "      <td>NaN</td>\n",
              "      <td>NaN</td>\n",
              "      <td>NaN</td>\n",
              "      <td>NaN</td>\n",
              "    </tr>\n",
              "    <tr>\n",
              "      <th>is_FK_Advantage_product</th>\n",
              "      <td>20000</td>\n",
              "      <td>2</td>\n",
              "      <td>False</td>\n",
              "      <td>19215</td>\n",
              "      <td>NaN</td>\n",
              "      <td>NaN</td>\n",
              "      <td>NaN</td>\n",
              "      <td>NaN</td>\n",
              "      <td>NaN</td>\n",
              "      <td>NaN</td>\n",
              "      <td>NaN</td>\n",
              "    </tr>\n",
              "    <tr>\n",
              "      <th>description</th>\n",
              "      <td>19998</td>\n",
              "      <td>17539</td>\n",
              "      <td>TheLostPuppy Back Cover for Apple iPad Air (Mu...</td>\n",
              "      <td>92</td>\n",
              "      <td>NaN</td>\n",
              "      <td>NaN</td>\n",
              "      <td>NaN</td>\n",
              "      <td>NaN</td>\n",
              "      <td>NaN</td>\n",
              "      <td>NaN</td>\n",
              "      <td>NaN</td>\n",
              "    </tr>\n",
              "    <tr>\n",
              "      <th>product_rating</th>\n",
              "      <td>20000</td>\n",
              "      <td>36</td>\n",
              "      <td>No rating available</td>\n",
              "      <td>18151</td>\n",
              "      <td>NaN</td>\n",
              "      <td>NaN</td>\n",
              "      <td>NaN</td>\n",
              "      <td>NaN</td>\n",
              "      <td>NaN</td>\n",
              "      <td>NaN</td>\n",
              "      <td>NaN</td>\n",
              "    </tr>\n",
              "    <tr>\n",
              "      <th>overall_rating</th>\n",
              "      <td>20000</td>\n",
              "      <td>36</td>\n",
              "      <td>No rating available</td>\n",
              "      <td>18151</td>\n",
              "      <td>NaN</td>\n",
              "      <td>NaN</td>\n",
              "      <td>NaN</td>\n",
              "      <td>NaN</td>\n",
              "      <td>NaN</td>\n",
              "      <td>NaN</td>\n",
              "      <td>NaN</td>\n",
              "    </tr>\n",
              "    <tr>\n",
              "      <th>brand</th>\n",
              "      <td>14136</td>\n",
              "      <td>3499</td>\n",
              "      <td>Allure Auto</td>\n",
              "      <td>469</td>\n",
              "      <td>NaN</td>\n",
              "      <td>NaN</td>\n",
              "      <td>NaN</td>\n",
              "      <td>NaN</td>\n",
              "      <td>NaN</td>\n",
              "      <td>NaN</td>\n",
              "      <td>NaN</td>\n",
              "    </tr>\n",
              "    <tr>\n",
              "      <th>product_specifications</th>\n",
              "      <td>19986</td>\n",
              "      <td>18825</td>\n",
              "      <td>{\"product_specification\"=&gt;[{\"key\"=&gt;\"Type\", \"va...</td>\n",
              "      <td>71</td>\n",
              "      <td>NaN</td>\n",
              "      <td>NaN</td>\n",
              "      <td>NaN</td>\n",
              "      <td>NaN</td>\n",
              "      <td>NaN</td>\n",
              "      <td>NaN</td>\n",
              "      <td>NaN</td>\n",
              "    </tr>\n",
              "  </tbody>\n",
              "</table>\n",
              "</div>\n",
              "    <div class=\"colab-df-buttons\">\n",
              "\n",
              "  <div class=\"colab-df-container\">\n",
              "    <button class=\"colab-df-convert\" onclick=\"convertToInteractive('df-f52eb3a0-a672-40da-bb46-902b89a9e935')\"\n",
              "            title=\"Convert this dataframe to an interactive table.\"\n",
              "            style=\"display:none;\">\n",
              "\n",
              "  <svg xmlns=\"http://www.w3.org/2000/svg\" height=\"24px\" viewBox=\"0 -960 960 960\">\n",
              "    <path d=\"M120-120v-720h720v720H120Zm60-500h600v-160H180v160Zm220 220h160v-160H400v160Zm0 220h160v-160H400v160ZM180-400h160v-160H180v160Zm440 0h160v-160H620v160ZM180-180h160v-160H180v160Zm440 0h160v-160H620v160Z\"/>\n",
              "  </svg>\n",
              "    </button>\n",
              "\n",
              "  <style>\n",
              "    .colab-df-container {\n",
              "      display:flex;\n",
              "      gap: 12px;\n",
              "    }\n",
              "\n",
              "    .colab-df-convert {\n",
              "      background-color: #E8F0FE;\n",
              "      border: none;\n",
              "      border-radius: 50%;\n",
              "      cursor: pointer;\n",
              "      display: none;\n",
              "      fill: #1967D2;\n",
              "      height: 32px;\n",
              "      padding: 0 0 0 0;\n",
              "      width: 32px;\n",
              "    }\n",
              "\n",
              "    .colab-df-convert:hover {\n",
              "      background-color: #E2EBFA;\n",
              "      box-shadow: 0px 1px 2px rgba(60, 64, 67, 0.3), 0px 1px 3px 1px rgba(60, 64, 67, 0.15);\n",
              "      fill: #174EA6;\n",
              "    }\n",
              "\n",
              "    .colab-df-buttons div {\n",
              "      margin-bottom: 4px;\n",
              "    }\n",
              "\n",
              "    [theme=dark] .colab-df-convert {\n",
              "      background-color: #3B4455;\n",
              "      fill: #D2E3FC;\n",
              "    }\n",
              "\n",
              "    [theme=dark] .colab-df-convert:hover {\n",
              "      background-color: #434B5C;\n",
              "      box-shadow: 0px 1px 3px 1px rgba(0, 0, 0, 0.15);\n",
              "      filter: drop-shadow(0px 1px 2px rgba(0, 0, 0, 0.3));\n",
              "      fill: #FFFFFF;\n",
              "    }\n",
              "  </style>\n",
              "\n",
              "    <script>\n",
              "      const buttonEl =\n",
              "        document.querySelector('#df-f52eb3a0-a672-40da-bb46-902b89a9e935 button.colab-df-convert');\n",
              "      buttonEl.style.display =\n",
              "        google.colab.kernel.accessAllowed ? 'block' : 'none';\n",
              "\n",
              "      async function convertToInteractive(key) {\n",
              "        const element = document.querySelector('#df-f52eb3a0-a672-40da-bb46-902b89a9e935');\n",
              "        const dataTable =\n",
              "          await google.colab.kernel.invokeFunction('convertToInteractive',\n",
              "                                                    [key], {});\n",
              "        if (!dataTable) return;\n",
              "\n",
              "        const docLinkHtml = 'Like what you see? Visit the ' +\n",
              "          '<a target=\"_blank\" href=https://colab.research.google.com/notebooks/data_table.ipynb>data table notebook</a>'\n",
              "          + ' to learn more about interactive tables.';\n",
              "        element.innerHTML = '';\n",
              "        dataTable['output_type'] = 'display_data';\n",
              "        await google.colab.output.renderOutput(dataTable, element);\n",
              "        const docLink = document.createElement('div');\n",
              "        docLink.innerHTML = docLinkHtml;\n",
              "        element.appendChild(docLink);\n",
              "      }\n",
              "    </script>\n",
              "  </div>\n",
              "\n",
              "\n",
              "<div id=\"df-c0b7b90a-ead7-46e6-9a3c-42b202b26049\">\n",
              "  <button class=\"colab-df-quickchart\" onclick=\"quickchart('df-c0b7b90a-ead7-46e6-9a3c-42b202b26049')\"\n",
              "            title=\"Suggest charts\"\n",
              "            style=\"display:none;\">\n",
              "\n",
              "<svg xmlns=\"http://www.w3.org/2000/svg\" height=\"24px\"viewBox=\"0 0 24 24\"\n",
              "     width=\"24px\">\n",
              "    <g>\n",
              "        <path d=\"M19 3H5c-1.1 0-2 .9-2 2v14c0 1.1.9 2 2 2h14c1.1 0 2-.9 2-2V5c0-1.1-.9-2-2-2zM9 17H7v-7h2v7zm4 0h-2V7h2v10zm4 0h-2v-4h2v4z\"/>\n",
              "    </g>\n",
              "</svg>\n",
              "  </button>\n",
              "\n",
              "<style>\n",
              "  .colab-df-quickchart {\n",
              "      --bg-color: #E8F0FE;\n",
              "      --fill-color: #1967D2;\n",
              "      --hover-bg-color: #E2EBFA;\n",
              "      --hover-fill-color: #174EA6;\n",
              "      --disabled-fill-color: #AAA;\n",
              "      --disabled-bg-color: #DDD;\n",
              "  }\n",
              "\n",
              "  [theme=dark] .colab-df-quickchart {\n",
              "      --bg-color: #3B4455;\n",
              "      --fill-color: #D2E3FC;\n",
              "      --hover-bg-color: #434B5C;\n",
              "      --hover-fill-color: #FFFFFF;\n",
              "      --disabled-bg-color: #3B4455;\n",
              "      --disabled-fill-color: #666;\n",
              "  }\n",
              "\n",
              "  .colab-df-quickchart {\n",
              "    background-color: var(--bg-color);\n",
              "    border: none;\n",
              "    border-radius: 50%;\n",
              "    cursor: pointer;\n",
              "    display: none;\n",
              "    fill: var(--fill-color);\n",
              "    height: 32px;\n",
              "    padding: 0;\n",
              "    width: 32px;\n",
              "  }\n",
              "\n",
              "  .colab-df-quickchart:hover {\n",
              "    background-color: var(--hover-bg-color);\n",
              "    box-shadow: 0 1px 2px rgba(60, 64, 67, 0.3), 0 1px 3px 1px rgba(60, 64, 67, 0.15);\n",
              "    fill: var(--button-hover-fill-color);\n",
              "  }\n",
              "\n",
              "  .colab-df-quickchart-complete:disabled,\n",
              "  .colab-df-quickchart-complete:disabled:hover {\n",
              "    background-color: var(--disabled-bg-color);\n",
              "    fill: var(--disabled-fill-color);\n",
              "    box-shadow: none;\n",
              "  }\n",
              "\n",
              "  .colab-df-spinner {\n",
              "    border: 2px solid var(--fill-color);\n",
              "    border-color: transparent;\n",
              "    border-bottom-color: var(--fill-color);\n",
              "    animation:\n",
              "      spin 1s steps(1) infinite;\n",
              "  }\n",
              "\n",
              "  @keyframes spin {\n",
              "    0% {\n",
              "      border-color: transparent;\n",
              "      border-bottom-color: var(--fill-color);\n",
              "      border-left-color: var(--fill-color);\n",
              "    }\n",
              "    20% {\n",
              "      border-color: transparent;\n",
              "      border-left-color: var(--fill-color);\n",
              "      border-top-color: var(--fill-color);\n",
              "    }\n",
              "    30% {\n",
              "      border-color: transparent;\n",
              "      border-left-color: var(--fill-color);\n",
              "      border-top-color: var(--fill-color);\n",
              "      border-right-color: var(--fill-color);\n",
              "    }\n",
              "    40% {\n",
              "      border-color: transparent;\n",
              "      border-right-color: var(--fill-color);\n",
              "      border-top-color: var(--fill-color);\n",
              "    }\n",
              "    60% {\n",
              "      border-color: transparent;\n",
              "      border-right-color: var(--fill-color);\n",
              "    }\n",
              "    80% {\n",
              "      border-color: transparent;\n",
              "      border-right-color: var(--fill-color);\n",
              "      border-bottom-color: var(--fill-color);\n",
              "    }\n",
              "    90% {\n",
              "      border-color: transparent;\n",
              "      border-bottom-color: var(--fill-color);\n",
              "    }\n",
              "  }\n",
              "</style>\n",
              "\n",
              "  <script>\n",
              "    async function quickchart(key) {\n",
              "      const quickchartButtonEl =\n",
              "        document.querySelector('#' + key + ' button');\n",
              "      quickchartButtonEl.disabled = true;  // To prevent multiple clicks.\n",
              "      quickchartButtonEl.classList.add('colab-df-spinner');\n",
              "      try {\n",
              "        const charts = await google.colab.kernel.invokeFunction(\n",
              "            'suggestCharts', [key], {});\n",
              "      } catch (error) {\n",
              "        console.error('Error during call to suggestCharts:', error);\n",
              "      }\n",
              "      quickchartButtonEl.classList.remove('colab-df-spinner');\n",
              "      quickchartButtonEl.classList.add('colab-df-quickchart-complete');\n",
              "    }\n",
              "    (() => {\n",
              "      let quickchartButtonEl =\n",
              "        document.querySelector('#df-c0b7b90a-ead7-46e6-9a3c-42b202b26049 button');\n",
              "      quickchartButtonEl.style.display =\n",
              "        google.colab.kernel.accessAllowed ? 'block' : 'none';\n",
              "    })();\n",
              "  </script>\n",
              "</div>\n",
              "\n",
              "    </div>\n",
              "  </div>\n"
            ],
            "application/vnd.google.colaboratory.intrinsic+json": {
              "type": "dataframe",
              "summary": "{\n  \"name\": \"df\",\n  \"rows\": 15,\n  \"fields\": [\n    {\n      \"column\": \"count\",\n      \"properties\": {\n        \"dtype\": \"date\",\n        \"min\": \"14136\",\n        \"max\": \"20000\",\n        \"num_unique_values\": 6,\n        \"samples\": [\n          \"20000\",\n          19922.0,\n          \"19986\"\n        ],\n        \"semantic_type\": \"\",\n        \"description\": \"\"\n      }\n    },\n    {\n      \"column\": \"unique\",\n      \"properties\": {\n        \"dtype\": \"date\",\n        \"min\": 2,\n        \"max\": 20000,\n        \"num_unique_values\": 11,\n        \"samples\": [\n          18589,\n          20000,\n          3499\n        ],\n        \"semantic_type\": \"\",\n        \"description\": \"\"\n      }\n    },\n    {\n      \"column\": \"top\",\n      \"properties\": {\n        \"dtype\": \"string\",\n        \"num_unique_values\": 12,\n        \"samples\": [\n          \"Allure Auto\",\n          \"No rating available\",\n          \"c2d766ca982eca8304150849735ffef9\"\n        ],\n        \"semantic_type\": \"\",\n        \"description\": \"\"\n      }\n    },\n    {\n      \"column\": \"freq\",\n      \"properties\": {\n        \"dtype\": \"date\",\n        \"min\": \"1\",\n        \"max\": \"19215\",\n        \"num_unique_values\": 11,\n        \"samples\": [\n          \"45\",\n          \"1\",\n          \"469\"\n        ],\n        \"semantic_type\": \"\",\n        \"description\": \"\"\n      }\n    },\n    {\n      \"column\": \"mean\",\n      \"properties\": {\n        \"dtype\": \"date\",\n        \"min\": 1973.4017668908743,\n        \"max\": 2979.2061038048387,\n        \"num_unique_values\": 2,\n        \"samples\": [\n          1973.4017668908743,\n          2979.2061038048387\n        ],\n        \"semantic_type\": \"\",\n        \"description\": \"\"\n      }\n    },\n    {\n      \"column\": \"std\",\n      \"properties\": {\n        \"dtype\": \"date\",\n        \"min\": 7333.586040242493,\n        \"max\": 9009.639341426717,\n        \"num_unique_values\": 2,\n        \"samples\": [\n          7333.586040242493,\n          9009.639341426717\n        ],\n        \"semantic_type\": \"\",\n        \"description\": \"\"\n      }\n    },\n    {\n      \"column\": \"min\",\n      \"properties\": {\n        \"dtype\": \"date\",\n        \"min\": 35.0,\n        \"max\": 35.0,\n        \"num_unique_values\": 1,\n        \"samples\": [\n          35.0\n        ],\n        \"semantic_type\": \"\",\n        \"description\": \"\"\n      }\n    },\n    {\n      \"column\": \"25%\",\n      \"properties\": {\n        \"dtype\": \"date\",\n        \"min\": 350.0,\n        \"max\": 666.0,\n        \"num_unique_values\": 2,\n        \"samples\": [\n          350.0\n        ],\n        \"semantic_type\": \"\",\n        \"description\": \"\"\n      }\n    },\n    {\n      \"column\": \"50%\",\n      \"properties\": {\n        \"dtype\": \"date\",\n        \"min\": 550.0,\n        \"max\": 1040.0,\n        \"num_unique_values\": 2,\n        \"samples\": [\n          550.0\n        ],\n        \"semantic_type\": \"\",\n        \"description\": \"\"\n      }\n    },\n    {\n      \"column\": \"75%\",\n      \"properties\": {\n        \"dtype\": \"date\",\n        \"min\": 999.0,\n        \"max\": 1999.0,\n        \"num_unique_values\": 2,\n        \"samples\": [\n          999.0\n        ],\n        \"semantic_type\": \"\",\n        \"description\": \"\"\n      }\n    },\n    {\n      \"column\": \"max\",\n      \"properties\": {\n        \"dtype\": \"date\",\n        \"min\": 571230.0,\n        \"max\": 571230.0,\n        \"num_unique_values\": 1,\n        \"samples\": [\n          571230.0\n        ],\n        \"semantic_type\": \"\",\n        \"description\": \"\"\n      }\n    }\n  ]\n}"
            }
          },
          "metadata": {},
          "execution_count": 4
        }
      ]
    },
    {
      "cell_type": "markdown",
      "source": [
        "# Vector DB"
      ],
      "metadata": {
        "id": "xa6M_RCGmnjW"
      }
    },
    {
      "cell_type": "markdown",
      "source": [
        "## EMBEDD THE STRING AND IMAGE. MAKE A DICT TO MAINTAIN THE ID AND INDEX MATCHING"
      ],
      "metadata": {
        "id": "MXfDRHCLKtbu"
      }
    },
    {
      "cell_type": "code",
      "source": [
        "from PIL import Image\n",
        "import torch\n",
        "from transformers import CLIPProcessor, CLIPModel\n",
        "\n",
        "# Load CLIP model and processor\n",
        "model = CLIPModel.from_pretrained(\"openai/clip-vit-base-patch32\")\n",
        "processor = CLIPProcessor.from_pretrained(\"openai/clip-vit-base-patch32\")\n",
        "\n",
        "# Inputs: Text and Image\n",
        "text1 = \"Key Features of Alisha Solid Women's Cycling Shorts: Pack of 3, made of Cotton Lycra fabric, ideal for women. Designed as cycling shorts with a solid pattern. Gentle machine wash in lukewarm water; avoid bleach. Style Code: ALTHT_3P_21. Includes 3 shorts in the sales package.\"\n",
        "text2= \"Key Features of Alisha Solid Women's Cycling Shorts Cotton Lycra Navy, Red, Navy,Specifications of Alisha Solid Women's Cycling Shorts Shorts Details Number of Contents in Sales Package Pack of 3\"\n",
        "image_path = \"/content/image.jpeg\"  # Replace with your image path\n",
        "image = Image.open(image_path)\n",
        "\n",
        "image_path2 = \"/content/image2.jpeg\"  # Replace with your image path\n",
        "image2 = Image.open(image_path2)\n",
        "# Preprocess inputs\n",
        "inputs = processor(text=[text1,text2], images=[image,image2], return_tensors=\"pt\", padding=True)\n",
        "\n",
        "# Generate embeddings\n",
        "outputs = model(**inputs)\n",
        "text_embeddings = outputs.text_embeds  # Text embedding\n",
        "image_embeddings = outputs.image_embeds  # Image embedding\n",
        "\n",
        "# Normalize embeddings (optional, for similarity search)\n",
        "text_embeddings = text_embeddings / text_embeddings.norm(p=2, dim=-1, keepdim=True)\n",
        "image_embeddings = image_embeddings / image_embeddings.norm(p=2, dim=-1, keepdim=True)\n",
        "\n",
        "\n",
        "print(\"Text Embedding Shape:\", text_embeddings.shape)\n",
        "print(\"Image Embedding Shape:\", image_embeddings.shape)\n"
      ],
      "metadata": {
        "colab": {
          "base_uri": "https://localhost:8080/"
        },
        "id": "km4RyQL3KgoR",
        "outputId": "cf4027a5-e617-4e3d-d926-a8fa1515962d"
      },
      "execution_count": 9,
      "outputs": [
        {
          "output_type": "stream",
          "name": "stdout",
          "text": [
            "Text Embedding Shape: torch.Size([2, 512])\n",
            "Image Embedding Shape: torch.Size([2, 512])\n"
          ]
        }
      ]
    },
    {
      "cell_type": "code",
      "source": [
        "import requests\n",
        "from io import BytesIO\n",
        "from PIL import Image\n",
        "import torch\n",
        "from transformers import CLIPProcessor, CLIPModel\n",
        "import math\n",
        "\n",
        "count=0\n",
        "SAMPLES=20\n",
        "\n",
        "index_map={}\n",
        "indx = 0\n",
        "length=70\n",
        "embedding =torch.empty(0)\n",
        "for rows in df.iterrows():\n",
        "  if count<SAMPLES:\n",
        "    if count%10==0:\n",
        "        print(count)\n",
        "    count+=1\n",
        "    images=[]\n",
        "    for url in rows[1]['image'][1:-1].split(','):\n",
        "        if url:\n",
        "            try:\n",
        "                # print(url)\n",
        "                response = requests.get(url.replace('\"',\"\"), stream=True)\n",
        "                response.raise_for_status()\n",
        "                image = Image.open(BytesIO(response.content))\n",
        "                image_path=url.split('/')[-1].split(\".\")[0]+\".jpg\"\n",
        "                image.save(image_path)\n",
        "                image = Image.open(image_path)\n",
        "                images.append(image)\n",
        "            except:\n",
        "                continue\n",
        "    if len(rows[1]['description'][0:70])>0 and len(images)>0:\n",
        "        text = rows[1]['description']\n",
        "        inputs = processor(text=[text[i:i + length] for i in range(0, len(text), length)], images=images, return_tensors=\"pt\", padding=True)\n",
        "        # Generate embeddings\n",
        "        outputs = model(**inputs)\n",
        "        text_embeddings = outputs.text_embeds  # Text embedding\n",
        "        image_embeddings = outputs.image_embeds  # Image embedding\n",
        "        index_map[rows[1]['uniq_id']]=[indx,indx+len(images)+math.ceil(len(text)/length)+1]\n",
        "        indx += len(images)+math.ceil(len(text)/length)+1\n",
        "        embedding = torch.cat((embedding,text_embeddings),0)\n",
        "        embedding = torch.cat((embedding,image_embeddings),0)\n",
        "print(\"EMBEDD SIZE:\", embedding.shape)\n"
      ],
      "metadata": {
        "id": "DZZ8Qm458V4P",
        "colab": {
          "base_uri": "https://localhost:8080/"
        },
        "outputId": "35e00f78-c278-4fef-c365-e27f9ec49686"
      },
      "execution_count": 6,
      "outputs": [
        {
          "output_type": "stream",
          "name": "stdout",
          "text": [
            "0\n",
            "10\n",
            "EMBEDD SIZE: torch.Size([469, 512])\n"
          ]
        }
      ]
    },
    {
      "cell_type": "markdown",
      "source": [
        "# QUERY"
      ],
      "metadata": {
        "id": "565BA3Mkm1sJ"
      }
    },
    {
      "cell_type": "code",
      "source": [
        "from sentence_transformers import SentenceTransformer\n",
        "import torch\n",
        "def search(query, embedding, index_map, dataframe,k=5 ):\n",
        "    model = SentenceTransformer(\"clip-ViT-B-32\")\n",
        "    query_emb = model.encode(query)\n",
        "\n",
        "    similarity_scores = []\n",
        "    for key, value in index_map.items():\n",
        "      score = model.similarity(embedding[value[0]:value[1]],query_emb).max()\n",
        "      similarity_scores.append((key,score))\n",
        "\n",
        "    similarity_scores.sort(key=lambda x: x[1], reverse=True)\n",
        "    for uniq_id in similarity_scores[:k]:\n",
        "        link =dataframe[dataframe['uniq_id']==uniq_id[0]]['image']\n",
        "        print(f\"Uniq ID: {uniq_id[0]}, Similarity Score: {uniq_id[1]} \")\n",
        "        for l in link:\n",
        "            print(l)\n",
        "        print(\"#\"*100)"
      ],
      "metadata": {
        "id": "qgamTB_WE5w-"
      },
      "execution_count": 10,
      "outputs": []
    },
    {
      "cell_type": "code",
      "source": [
        "search(\"leather black\",embedding=embedding,index_map=index_map, dataframe =df)"
      ],
      "metadata": {
        "colab": {
          "base_uri": "https://localhost:8080/",
          "height": 141
        },
        "id": "UYGwcsP_loov",
        "outputId": "653496bc-660c-4dc8-c296-0a04c8119cda"
      },
      "execution_count": 11,
      "outputs": [
        {
          "output_type": "error",
          "ename": "NameError",
          "evalue": "name 'embedding' is not defined",
          "traceback": [
            "\u001b[0;31m---------------------------------------------------------------------------\u001b[0m",
            "\u001b[0;31mNameError\u001b[0m                                 Traceback (most recent call last)",
            "\u001b[0;32m<ipython-input-11-66cb6cba709e>\u001b[0m in \u001b[0;36m<cell line: 0>\u001b[0;34m()\u001b[0m\n\u001b[0;32m----> 1\u001b[0;31m \u001b[0msearch\u001b[0m\u001b[0;34m(\u001b[0m\u001b[0;34m\"leather black\"\u001b[0m\u001b[0;34m,\u001b[0m\u001b[0membedding\u001b[0m\u001b[0;34m=\u001b[0m\u001b[0membedding\u001b[0m\u001b[0;34m,\u001b[0m\u001b[0mindex_map\u001b[0m\u001b[0;34m=\u001b[0m\u001b[0mindex_map\u001b[0m\u001b[0;34m,\u001b[0m \u001b[0mdataframe\u001b[0m \u001b[0;34m=\u001b[0m\u001b[0mdf\u001b[0m\u001b[0;34m)\u001b[0m\u001b[0;34m\u001b[0m\u001b[0;34m\u001b[0m\u001b[0m\n\u001b[0m",
            "\u001b[0;31mNameError\u001b[0m: name 'embedding' is not defined"
          ]
        }
      ]
    },
    {
      "cell_type": "code",
      "source": [
        "from sentence_transformers import SentenceTransformer\n",
        "import torch\n",
        "def search_image(image_path, embedding, index_map, dataframe,k=5 ):\n",
        "    image = Image.open(image_path)\n",
        "    model = SentenceTransformer(\"clip-ViT-B-32\")\n",
        "    query_emb = model.encode(image)\n",
        "\n",
        "    similarity_scores = []\n",
        "    for key, value in index_map.items():\n",
        "      score = model.similarity(embedding[value[0]:value[1]],query_emb).max()\n",
        "      similarity_scores.append((key,score))\n",
        "\n",
        "    similarity_scores.sort(key=lambda x: x[1], reverse=True)\n",
        "    for uniq_id in similarity_scores[:k]:\n",
        "        link =dataframe[dataframe['uniq_id']==uniq_id[0]]['image']\n",
        "        print(f\"Uniq ID: {uniq_id[0]}, Similarity Score: {uniq_id[1]} \")\n",
        "        for l in link:\n",
        "            print(l)\n",
        "        print(\"#\"*100)"
      ],
      "metadata": {
        "id": "iN3VFsbSV6bi"
      },
      "execution_count": 12,
      "outputs": []
    },
    {
      "cell_type": "code",
      "source": [
        "search_image(\"/content/test.jpg\",embedding=embedding,index_map=index_map, dataframe =df,k=2)"
      ],
      "metadata": {
        "colab": {
          "base_uri": "https://localhost:8080/"
        },
        "id": "Ko8ycB3nWDO1",
        "outputId": "62ece82c-3591-4175-cab8-fc48f64a9f74"
      },
      "execution_count": 34,
      "outputs": [
        {
          "output_type": "stream",
          "name": "stdout",
          "text": [
            "Uniq ID: c2d766ca982eca8304150849735ffef9, Similarity Score: 0.9487442970275879 \n",
            "[\"http://img5a.flixcart.com/image/short/u/4/a/altht-3p-21-alisha-38-original-imaeh2d5vm5zbtgg.jpeg\", \"http://img5a.flixcart.com/image/short/p/j/z/altght4p-26-alisha-38-original-imaeh2d5kbufss6n.jpeg\", \"http://img5a.flixcart.com/image/short/p/j/z/altght4p-26-alisha-38-original-imaeh2d5npdybzyt.jpeg\", \"http://img5a.flixcart.com/image/short/z/j/7/altght-7-alisha-38-original-imaeh2d5jsz2ghd6.jpeg\"]\n",
            "####################################################################################################\n",
            "Uniq ID: ce5a6818f7707e2cb61fdcdbba61f5ad, Similarity Score: 0.9487442970275879 \n",
            "[\"http://img6a.flixcart.com/image/short/p/j/z/altght4p-26-alisha-38-original-imaeh2d5cqtxe5gt.jpeg\", \"http://img5a.flixcart.com/image/short/z/j/7/altght-7-alisha-38-original-imaeh2d5jsz2ghd6.jpeg\", \"http://img5a.flixcart.com/image/short/p/j/z/altght4p-26-alisha-38-original-imaeh2d5kbufss6n.jpeg\", \"http://img5a.flixcart.com/image/short/p/j/z/altght4p-26-alisha-38-original-imaeh2d5npdybzyt.jpeg\", \"http://img6a.flixcart.com/image/short/x/5/f/altght-2-alisha-36-original-imaeh2d5xnueazgz.jpeg\"]\n",
            "####################################################################################################\n"
          ]
        }
      ]
    },
    {
      "cell_type": "code",
      "source": [
        "search_image(\"/content/test2.jpg\",embedding=embedding,index_map=index_map, dataframe =df,k=2)"
      ],
      "metadata": {
        "colab": {
          "base_uri": "https://localhost:8080/"
        },
        "id": "DiuflANnbtNQ",
        "outputId": "919450b6-ad45-4dae-d01e-51a01741d235"
      },
      "execution_count": 35,
      "outputs": [
        {
          "output_type": "stream",
          "name": "stdout",
          "text": [
            "Uniq ID: c29af37837afcaf44b779eca7c19295f, Similarity Score: 0.8790022730827332 \n",
            "[\"http://img6a.flixcart.com/image/pet-shampoo/c/c/d/sh-df-07-sicons-200-1100x1100-imaeh3kvn25fznjt.jpeg\", \"http://img6a.flixcart.com/image/pet-shampoo/c/c/d/sh-df-07-sicons-200-original-imaeh3kvn25fznjt.jpeg\"]\n",
            "####################################################################################################\n",
            "Uniq ID: c2d766ca982eca8304150849735ffef9, Similarity Score: 0.8700301647186279 \n",
            "[\"http://img5a.flixcart.com/image/short/u/4/a/altht-3p-21-alisha-38-original-imaeh2d5vm5zbtgg.jpeg\", \"http://img5a.flixcart.com/image/short/p/j/z/altght4p-26-alisha-38-original-imaeh2d5kbufss6n.jpeg\", \"http://img5a.flixcart.com/image/short/p/j/z/altght4p-26-alisha-38-original-imaeh2d5npdybzyt.jpeg\", \"http://img5a.flixcart.com/image/short/z/j/7/altght-7-alisha-38-original-imaeh2d5jsz2ghd6.jpeg\"]\n",
            "####################################################################################################\n"
          ]
        }
      ]
    },
    {
      "cell_type": "code",
      "source": [
        "import math\n",
        "def search_image_text(query,image_path, embedding, index_map, dataframe,k=5 ):\n",
        "    query_search_results = search(query,embedding,index_map,dataframe,k=math.ceil(k/2))\n",
        "    image_search_results = search_image(image_path,embedding,index_map,dataframe,k=math.ceil(k/2))\n",
        "\n"
      ],
      "metadata": {
        "id": "EuiNhfDl4SUE"
      },
      "execution_count": 18,
      "outputs": []
    },
    {
      "cell_type": "markdown",
      "source": [
        "# Save pickle files"
      ],
      "metadata": {
        "id": "yyPBL7msK4qC"
      }
    },
    {
      "cell_type": "code",
      "source": [
        "import pickle\n",
        "\n",
        "def pickle_file(file_name,data):\n",
        "    with open(file_name, 'wb') as f:\n",
        "        pickle.dump(data, f)\n",
        "pickle_file('embeddings.pickle',embedding)\n",
        "pickle_file('index_map.pickle',index_map)\n",
        "pickle_file('dataframe.pickle',df)"
      ],
      "metadata": {
        "id": "KJdpHKOr8hYg"
      },
      "execution_count": 2,
      "outputs": []
    },
    {
      "cell_type": "code",
      "source": [
        "pickle_file('embeddings.pickle',embedding)\n",
        "pickle_file('index_map.pickle',index_map)\n",
        "pickle_file('dataframe.pickle',df)"
      ],
      "metadata": {
        "id": "0qaLt8fl4EY9"
      },
      "execution_count": null,
      "outputs": []
    },
    {
      "cell_type": "code",
      "source": [
        "def read_pickle_file(file_name):\n",
        "    with open(file_name, 'rb') as f:\n",
        "        return pickle.load(f)"
      ],
      "metadata": {
        "id": "DJpnXcEw4ItC"
      },
      "execution_count": 3,
      "outputs": []
    },
    {
      "cell_type": "code",
      "source": [
        "import pickle\n",
        "embeddings_read = read_pickle_file('embeddings.pickle')\n",
        "index_map_read = read_pickle_file('index_map.pickle')\n",
        "df_read = read_pickle_file('dataframe.pickle')"
      ],
      "metadata": {
        "id": "Zx5qtMC7UsC4"
      },
      "execution_count": 4,
      "outputs": []
    },
    {
      "cell_type": "code",
      "source": [
        "embeddings_read.shape"
      ],
      "metadata": {
        "id": "A__R8QDj2mgf",
        "colab": {
          "base_uri": "https://localhost:8080/"
        },
        "outputId": "b75a0ac8-8e8b-4f44-c337-2bfc67a2fd42"
      },
      "execution_count": 5,
      "outputs": [
        {
          "output_type": "execute_result",
          "data": {
            "text/plain": [
              "torch.Size([469, 512])"
            ]
          },
          "metadata": {},
          "execution_count": 5
        }
      ]
    },
    {
      "cell_type": "code",
      "source": [
        "len(index_map_read)"
      ],
      "metadata": {
        "colab": {
          "base_uri": "https://localhost:8080/"
        },
        "id": "acW7NuJaJ_z6",
        "outputId": "805b76a1-b3d7-4cfc-dd30-2b9010b3ad3d"
      },
      "execution_count": 6,
      "outputs": [
        {
          "output_type": "execute_result",
          "data": {
            "text/plain": [
              "20"
            ]
          },
          "metadata": {},
          "execution_count": 6
        }
      ]
    },
    {
      "cell_type": "code",
      "source": [
        "df_read.shape"
      ],
      "metadata": {
        "colab": {
          "base_uri": "https://localhost:8080/"
        },
        "id": "uFgt5TD8KCCF",
        "outputId": "5ae60270-1213-4843-a76b-87c8cba158f0"
      },
      "execution_count": 7,
      "outputs": [
        {
          "output_type": "execute_result",
          "data": {
            "text/plain": [
              "(20000, 15)"
            ]
          },
          "metadata": {},
          "execution_count": 7
        }
      ]
    },
    {
      "cell_type": "code",
      "source": [
        "search(\"leather black\",embedding=embeddings_read,index_map=index_map_read, dataframe=df_read)"
      ],
      "metadata": {
        "colab": {
          "base_uri": "https://localhost:8080/"
        },
        "id": "MIb5iDblKH60",
        "outputId": "8b248574-e91b-47dd-8d1a-fa42dd920ddf"
      },
      "execution_count": 13,
      "outputs": [
        {
          "output_type": "stream",
          "name": "stdout",
          "text": [
            "Uniq ID: 4044c0ac52c1ee4b28777417651faf42, Similarity Score: 0.8263331651687622 \n",
            "[\"http://img5a.flixcart.com/image/short/5/z/c/altght4p-39-alisha-38-original-imaeh2d5ar6m55zd.jpeg\", \"http://img5a.flixcart.com/image/short/z/h/b/altght-9-alisha-36-original-imaeh2d5khxcdggw.jpeg\", \"http://img6a.flixcart.com/image/short/z/h/b/altght-9-alisha-36-original-imaeh2d5yj4cnjtz.jpeg\", \"http://img6a.flixcart.com/image/short/z/h/b/altght-9-alisha-36-original-imaeh2d55eacbgwg.jpeg\", \"http://img6a.flixcart.com/image/short/p/h/t/altht-3p-1-alisha-34-original-imaeh2d5jxvh4msy.jpeg\"]\n",
            "####################################################################################################\n",
            "Uniq ID: 7f7036a6d550aaa89d34c77bd39a5e48, Similarity Score: 0.772011399269104 \n",
            "[\"http://img6a.flixcart.com/image/sofa-bed/j/f/y/fhd112-double-foam-fabhomedecor-leatherette-black-leatherette-1100x1100-imaeh3gemjjcg9ta.jpeg\", \"http://img6a.flixcart.com/image/sofa-bed/j/f/y/fhd112-double-foam-fabhomedecor-leatherette-black-leatherette-original-imaeh3gemjjcg9ta.jpeg\", \"http://img6a.flixcart.com/image/sofa-bed/j/f/y/fhd112-double-foam-fabhomedecor-leatherette-black-leatherette-original-imaeh3genfxkqvuv.jpeg\", \"http://img5a.flixcart.com/image/sofa-bed/j/f/y/fhd112-double-foam-fabhomedecor-leatherette-black-leatherette-original-imaeh3ge2sfeczef.jpeg\", \"http://img5a.flixcart.com/image/sofa-bed/j/f/y/fhd112-double-foam-fabhomedecor-leatherette-black-leatherette-original-imaeh3geuy7d74g2.jpeg\", \"http://img5a.flixcart.com/image/sofa-bed/j/f/y/fhd112-double-foam-fabhomedecor-leatherette-black-leatherette-original-imaeh3gerfhdxzwj.jpeg\"]\n",
            "####################################################################################################\n",
            "Uniq ID: 849ab05698081a374215d0b7d18047d0, Similarity Score: 0.7479668259620667 \n",
            "[\"http://img5a.flixcart.com/image/sofa-bed/r/c/g/fhd132-double-foam-fabhomedecor-purple-purple-1100x1100-imaeh3getyhdnnxn.jpeg\", \"http://img5a.flixcart.com/image/sofa-bed/r/c/g/fhd132-double-foam-fabhomedecor-purple-purple-original-imaeh3getyhdnnxn.jpeg\", \"http://img5a.flixcart.com/image/sofa-bed/r/c/g/fhd132-double-foam-fabhomedecor-purple-purple-original-imaeh3gehkzxd64a.jpeg\", \"http://img6a.flixcart.com/image/sofa-bed/r/c/g/fhd132-double-foam-fabhomedecor-purple-purple-original-imaeh3getztbhygx.jpeg\", \"http://img6a.flixcart.com/image/sofa-bed/r/c/g/fhd132-double-foam-fabhomedecor-purple-purple-original-imaeh3ge5qgadxgh.jpeg\", \"http://img6a.flixcart.com/image/sofa-bed/r/c/g/fhd132-double-foam-fabhomedecor-purple-purple-original-imaeh3gefhxg2vxy.jpeg\", \"http://img5a.flixcart.com/image/sofa-bed/r/c/g/fhd132-double-foam-fabhomedecor-purple-purple-original-imaeh3gfmx3wjstu.jpeg\"]\n",
            "####################################################################################################\n",
            "Uniq ID: 7ee3e337474a29b38cfe1f5d4020d633, Similarity Score: 0.7453249096870422 \n",
            "[\"http://img6a.flixcart.com/image/sofa-bed/j/6/q/fhd115-double-foam-fabhomedecor-dark-brown-dark-brown-original-imaeh3gee5zcazvm.jpeg\", \"http://img5a.flixcart.com/image/sofa-bed/j/6/q/fhd115-double-foam-fabhomedecor-dark-brown-dark-brown-original-imaeh3gehqgbxhhq.jpeg\", \"http://img6a.flixcart.com/image/sofa-bed/j/6/q/fhd115-double-foam-fabhomedecor-dark-brown-dark-brown-original-imaeh3get5j5mqfw.jpeg\", \"http://img6a.flixcart.com/image/sofa-bed/j/6/q/fhd115-double-foam-fabhomedecor-dark-brown-dark-brown-original-imaeh3gezh3uxkux.jpeg\", \"http://img6a.flixcart.com/image/sofa-bed/j/6/q/fhd115-double-foam-fabhomedecor-dark-brown-dark-brown-original-imaeh3geexpwnmeb.jpeg\"]\n",
            "####################################################################################################\n",
            "Uniq ID: 8542703ca9e6ebdf6d742638dfb1f2ca, Similarity Score: 0.7447754740715027 \n",
            "[\"http://img6a.flixcart.com/image/sofa-bed/e/x/n/fhd107-double-foam-fabhomedecor-brown-brown-1100x1100-imaeh3geypmfrc5a.jpeg\", \"http://img6a.flixcart.com/image/sofa-bed/e/x/n/fhd107-double-foam-fabhomedecor-brown-brown-original-imaeh3geypmfrc5a.jpeg\", \"http://img6a.flixcart.com/image/sofa-bed/e/x/n/fhd107-double-foam-fabhomedecor-brown-brown-original-imaeh3geadxsdz2f.jpeg\", \"http://img5a.flixcart.com/image/sofa-bed/e/x/n/fhd107-double-foam-fabhomedecor-brown-brown-original-imaeh3gehnzcjfzv.jpeg\"]\n",
            "####################################################################################################\n"
          ]
        }
      ]
    },
    {
      "cell_type": "code",
      "source": [
        "search(\"fabric\",embedding=embeddings_read,index_map=index_map_read, dataframe=df_read)"
      ],
      "metadata": {
        "colab": {
          "base_uri": "https://localhost:8080/"
        },
        "id": "Q0gW9ZNNKUIa",
        "outputId": "031b9b0b-fc9e-468c-e73c-d15fc9e5b795"
      },
      "execution_count": 14,
      "outputs": [
        {
          "output_type": "stream",
          "name": "stdout",
          "text": [
            "Uniq ID: 849ab05698081a374215d0b7d18047d0, Similarity Score: 0.853799045085907 \n",
            "[\"http://img5a.flixcart.com/image/sofa-bed/r/c/g/fhd132-double-foam-fabhomedecor-purple-purple-1100x1100-imaeh3getyhdnnxn.jpeg\", \"http://img5a.flixcart.com/image/sofa-bed/r/c/g/fhd132-double-foam-fabhomedecor-purple-purple-original-imaeh3getyhdnnxn.jpeg\", \"http://img5a.flixcart.com/image/sofa-bed/r/c/g/fhd132-double-foam-fabhomedecor-purple-purple-original-imaeh3gehkzxd64a.jpeg\", \"http://img6a.flixcart.com/image/sofa-bed/r/c/g/fhd132-double-foam-fabhomedecor-purple-purple-original-imaeh3getztbhygx.jpeg\", \"http://img6a.flixcart.com/image/sofa-bed/r/c/g/fhd132-double-foam-fabhomedecor-purple-purple-original-imaeh3ge5qgadxgh.jpeg\", \"http://img6a.flixcart.com/image/sofa-bed/r/c/g/fhd132-double-foam-fabhomedecor-purple-purple-original-imaeh3gefhxg2vxy.jpeg\", \"http://img5a.flixcart.com/image/sofa-bed/r/c/g/fhd132-double-foam-fabhomedecor-purple-purple-original-imaeh3gfmx3wjstu.jpeg\"]\n",
            "####################################################################################################\n",
            "Uniq ID: 7f7036a6d550aaa89d34c77bd39a5e48, Similarity Score: 0.8444389700889587 \n",
            "[\"http://img6a.flixcart.com/image/sofa-bed/j/f/y/fhd112-double-foam-fabhomedecor-leatherette-black-leatherette-1100x1100-imaeh3gemjjcg9ta.jpeg\", \"http://img6a.flixcart.com/image/sofa-bed/j/f/y/fhd112-double-foam-fabhomedecor-leatherette-black-leatherette-original-imaeh3gemjjcg9ta.jpeg\", \"http://img6a.flixcart.com/image/sofa-bed/j/f/y/fhd112-double-foam-fabhomedecor-leatherette-black-leatherette-original-imaeh3genfxkqvuv.jpeg\", \"http://img5a.flixcart.com/image/sofa-bed/j/f/y/fhd112-double-foam-fabhomedecor-leatherette-black-leatherette-original-imaeh3ge2sfeczef.jpeg\", \"http://img5a.flixcart.com/image/sofa-bed/j/f/y/fhd112-double-foam-fabhomedecor-leatherette-black-leatherette-original-imaeh3geuy7d74g2.jpeg\", \"http://img5a.flixcart.com/image/sofa-bed/j/f/y/fhd112-double-foam-fabhomedecor-leatherette-black-leatherette-original-imaeh3gerfhdxzwj.jpeg\"]\n",
            "####################################################################################################\n",
            "Uniq ID: 7ee3e337474a29b38cfe1f5d4020d633, Similarity Score: 0.8416316509246826 \n",
            "[\"http://img6a.flixcart.com/image/sofa-bed/j/6/q/fhd115-double-foam-fabhomedecor-dark-brown-dark-brown-original-imaeh3gee5zcazvm.jpeg\", \"http://img5a.flixcart.com/image/sofa-bed/j/6/q/fhd115-double-foam-fabhomedecor-dark-brown-dark-brown-original-imaeh3gehqgbxhhq.jpeg\", \"http://img6a.flixcart.com/image/sofa-bed/j/6/q/fhd115-double-foam-fabhomedecor-dark-brown-dark-brown-original-imaeh3get5j5mqfw.jpeg\", \"http://img6a.flixcart.com/image/sofa-bed/j/6/q/fhd115-double-foam-fabhomedecor-dark-brown-dark-brown-original-imaeh3gezh3uxkux.jpeg\", \"http://img6a.flixcart.com/image/sofa-bed/j/6/q/fhd115-double-foam-fabhomedecor-dark-brown-dark-brown-original-imaeh3geexpwnmeb.jpeg\"]\n",
            "####################################################################################################\n",
            "Uniq ID: 9aacdecceb404c74abddc513fd2756a8, Similarity Score: 0.8409173488616943 \n",
            "[\"http://img6a.flixcart.com/image/short/q/z/v/altht-3p-17-alisha-36-original-imaeh2d5njykvkz6.jpeg\", \"http://img6a.flixcart.com/image/short/p/h/t/altht-3p-1-alisha-34-original-imaeh2d5yz9fcjxe.jpeg\", \"http://img6a.flixcart.com/image/short/p/h/t/altht-3p-1-alisha-34-original-imaeh2d5fa94gzuy.jpeg\", \"http://img6a.flixcart.com/image/short/p/h/t/altht-3p-1-alisha-34-original-imaeh2d5jxvh4msy.jpeg\"]\n",
            "####################################################################################################\n",
            "Uniq ID: 8542703ca9e6ebdf6d742638dfb1f2ca, Similarity Score: 0.8358439803123474 \n",
            "[\"http://img6a.flixcart.com/image/sofa-bed/e/x/n/fhd107-double-foam-fabhomedecor-brown-brown-1100x1100-imaeh3geypmfrc5a.jpeg\", \"http://img6a.flixcart.com/image/sofa-bed/e/x/n/fhd107-double-foam-fabhomedecor-brown-brown-original-imaeh3geypmfrc5a.jpeg\", \"http://img6a.flixcart.com/image/sofa-bed/e/x/n/fhd107-double-foam-fabhomedecor-brown-brown-original-imaeh3geadxsdz2f.jpeg\", \"http://img5a.flixcart.com/image/sofa-bed/e/x/n/fhd107-double-foam-fabhomedecor-brown-brown-original-imaeh3gehnzcjfzv.jpeg\"]\n",
            "####################################################################################################\n"
          ]
        }
      ]
    },
    {
      "cell_type": "code",
      "source": [
        "search_image_text(query=\"cycling shorts\",image_path=\"/content/test2.jpg\", embedding=embeddings_read, index_map=index_map_read, dataframe=df_read,k=5 )"
      ],
      "metadata": {
        "colab": {
          "base_uri": "https://localhost:8080/"
        },
        "id": "GiQRUL8-5vzP",
        "outputId": "0e008dce-afda-4a3f-b201-8f26b47c4b57"
      },
      "execution_count": 19,
      "outputs": [
        {
          "output_type": "stream",
          "name": "stdout",
          "text": [
            "Uniq ID: 0973b37acd0c664e3de26e97e5571454, Similarity Score: 0.8297384977340698 \n",
            "[\"http://img5a.flixcart.com/image/short/6/2/h/altght-11-alisha-38-original-imaeh2d5uq9thnyg.jpeg\", \"http://img6a.flixcart.com/image/short/p/h/t/altht-3p-1-alisha-34-original-imaeh2d5jxvh4msy.jpeg\", \"http://img6a.flixcart.com/image/short/p/h/t/altht-3p-1-alisha-34-original-imaeh2d5yz9fcjxe.jpeg\", \"http://img6a.flixcart.com/image/short/p/h/t/altht-3p-1-alisha-34-original-imaeh2d5fa94gzuy.jpeg\", \"http://img6a.flixcart.com/image/short/x/5/f/altght-2-alisha-36-original-imaeh2d5xnueazgz.jpeg\"]\n",
            "####################################################################################################\n",
            "Uniq ID: c2d766ca982eca8304150849735ffef9, Similarity Score: 0.8215460777282715 \n",
            "[\"http://img5a.flixcart.com/image/short/u/4/a/altht-3p-21-alisha-38-original-imaeh2d5vm5zbtgg.jpeg\", \"http://img5a.flixcart.com/image/short/p/j/z/altght4p-26-alisha-38-original-imaeh2d5kbufss6n.jpeg\", \"http://img5a.flixcart.com/image/short/p/j/z/altght4p-26-alisha-38-original-imaeh2d5npdybzyt.jpeg\", \"http://img5a.flixcart.com/image/short/z/j/7/altght-7-alisha-38-original-imaeh2d5jsz2ghd6.jpeg\"]\n",
            "####################################################################################################\n",
            "Uniq ID: c73e78fb440ff8972e0762daed4fc109, Similarity Score: 0.8056701421737671 \n",
            "[\"http://img6a.flixcart.com/image/swimsuit/5/v/9/carrel-sw-3091-black-white01-carrel-4xl-original-imaehyzm2sywfavb.jpeg\", \"http://img5a.flixcart.com/image/swimsuit/g/g/x/carrel-sw-3091-black-white01-carrel-xl-original-imaehyzmmvg6b7uy.jpeg\", \"http://img6a.flixcart.com/image/swimsuit/5/v/9/carrel-sw-3091-black-white01-carrel-4xl-original-imaehyzmvffqbdde.jpeg\", \"http://img6a.flixcart.com/image/swimsuit/5/v/9/carrel-sw-3091-black-white01-carrel-4xl-original-imaehyzmgnqtwjpg.jpeg\", \"http://img5a.flixcart.com/image/swimsuit/5/v/9/carrel-sw-3091-black-white01-carrel-4xl-original-imaehyzmb4smucms.jpeg\"]\n",
            "####################################################################################################\n",
            "Uniq ID: c29af37837afcaf44b779eca7c19295f, Similarity Score: 0.8790022730827332 \n",
            "[\"http://img6a.flixcart.com/image/pet-shampoo/c/c/d/sh-df-07-sicons-200-1100x1100-imaeh3kvn25fznjt.jpeg\", \"http://img6a.flixcart.com/image/pet-shampoo/c/c/d/sh-df-07-sicons-200-original-imaeh3kvn25fznjt.jpeg\"]\n",
            "####################################################################################################\n",
            "Uniq ID: c2d766ca982eca8304150849735ffef9, Similarity Score: 0.8700302243232727 \n",
            "[\"http://img5a.flixcart.com/image/short/u/4/a/altht-3p-21-alisha-38-original-imaeh2d5vm5zbtgg.jpeg\", \"http://img5a.flixcart.com/image/short/p/j/z/altght4p-26-alisha-38-original-imaeh2d5kbufss6n.jpeg\", \"http://img5a.flixcart.com/image/short/p/j/z/altght4p-26-alisha-38-original-imaeh2d5npdybzyt.jpeg\", \"http://img5a.flixcart.com/image/short/z/j/7/altght-7-alisha-38-original-imaeh2d5jsz2ghd6.jpeg\"]\n",
            "####################################################################################################\n",
            "Uniq ID: ce5a6818f7707e2cb61fdcdbba61f5ad, Similarity Score: 0.8700302243232727 \n",
            "[\"http://img6a.flixcart.com/image/short/p/j/z/altght4p-26-alisha-38-original-imaeh2d5cqtxe5gt.jpeg\", \"http://img5a.flixcart.com/image/short/z/j/7/altght-7-alisha-38-original-imaeh2d5jsz2ghd6.jpeg\", \"http://img5a.flixcart.com/image/short/p/j/z/altght4p-26-alisha-38-original-imaeh2d5kbufss6n.jpeg\", \"http://img5a.flixcart.com/image/short/p/j/z/altght4p-26-alisha-38-original-imaeh2d5npdybzyt.jpeg\", \"http://img6a.flixcart.com/image/short/x/5/f/altght-2-alisha-36-original-imaeh2d5xnueazgz.jpeg\"]\n",
            "####################################################################################################\n"
          ]
        }
      ]
    },
    {
      "cell_type": "code",
      "source": [],
      "metadata": {
        "id": "u9YUzbON6Vfo"
      },
      "execution_count": null,
      "outputs": []
    }
  ]
}